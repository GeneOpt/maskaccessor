{
 "cells": [
  {
   "cell_type": "code",
   "execution_count": 8,
   "metadata": {
    "collapsed": true
   },
   "outputs": [],
   "source": [
    "import xarray as xr\n",
    "import maskacc\n",
    "import numpy as np"
   ]
  },
  {
   "cell_type": "code",
   "execution_count": 9,
   "metadata": {
    "collapsed": true
   },
   "outputs": [],
   "source": [
    "arr = np.random.rand(5,3,4)\n",
    "cube = xr.DataArray(arr, dims=['band', 'a', 'b'], coords={'b':[3,4,5,6], 'band':[1,2,3,6,7], 'a':[1,2,3]})"
   ]
  },
  {
   "cell_type": "code",
   "execution_count": 10,
   "metadata": {},
   "outputs": [
    {
     "data": {
      "text/plain": [
       "['a', 'b']"
      ]
     },
     "execution_count": 10,
     "metadata": {},
     "output_type": "execute_result"
    }
   ],
   "source": [
    "cube.M.dims"
   ]
  },
  {
   "cell_type": "code",
   "execution_count": 15,
   "metadata": {},
   "outputs": [],
   "source": [
    "cube.M.refresh(dims=['a', 'band'])"
   ]
  },
  {
   "cell_type": "code",
   "execution_count": 17,
   "metadata": {},
   "outputs": [
    {
     "data": {
      "text/plain": [
       "array([[ 1.,  1.,  1.],\n",
       "       [ 1.,  1.,  1.],\n",
       "       [ 1.,  1.,  1.],\n",
       "       [ 1.,  1.,  1.],\n",
       "       [ 1.,  1.,  1.]])"
      ]
     },
     "execution_count": 17,
     "metadata": {},
     "output_type": "execute_result"
    }
   ],
   "source": [
    "cube.M.mask"
   ]
  },
  {
   "cell_type": "code",
   "execution_count": 18,
   "metadata": {
    "collapsed": true
   },
   "outputs": [],
   "source": [
    "cube.M.refresh(dims=['a', 'b'])"
   ]
  },
  {
   "cell_type": "code",
   "execution_count": 19,
   "metadata": {},
   "outputs": [
    {
     "data": {
      "text/plain": [
       "array([[ 1.,  1.,  1.,  1.],\n",
       "       [ 1.,  1.,  1.,  1.],\n",
       "       [ 1.,  1.,  1.,  1.]])"
      ]
     },
     "execution_count": 19,
     "metadata": {},
     "output_type": "execute_result"
    }
   ],
   "source": [
    "cube.M.mask"
   ]
  },
  {
   "cell_type": "code",
   "execution_count": 20,
   "metadata": {
    "collapsed": true
   },
   "outputs": [],
   "source": [
    "cube.M.mask = np.array([[0,1,0,1],[1,0,1,0],[0,1,0,1]])"
   ]
  },
  {
   "cell_type": "code",
   "execution_count": 21,
   "metadata": {},
   "outputs": [
    {
     "data": {
      "text/plain": [
       "array([[0, 1, 0, 1],\n",
       "       [1, 0, 1, 0],\n",
       "       [0, 1, 0, 1]])"
      ]
     },
     "execution_count": 21,
     "metadata": {},
     "output_type": "execute_result"
    }
   ],
   "source": [
    "cube.M.mask"
   ]
  },
  {
   "cell_type": "code",
   "execution_count": 22,
   "metadata": {},
   "outputs": [
    {
     "data": {
      "text/plain": [
       "array([[1, 1, 0, 1],\n",
       "       [1, 0, 1, 0],\n",
       "       [0, 1, 0, 1]])"
      ]
     },
     "execution_count": 22,
     "metadata": {},
     "output_type": "execute_result"
    }
   ],
   "source": [
    "cube.M.select([0,0])\n",
    "cube.M.mask"
   ]
  },
  {
   "cell_type": "code",
   "execution_count": 26,
   "metadata": {},
   "outputs": [
    {
     "data": {
      "text/plain": [
       "array([[1, 1, 1, 1],\n",
       "       [1, 1, 1, 0],\n",
       "       [0, 1, 0, 1]])"
      ]
     },
     "execution_count": 26,
     "metadata": {},
     "output_type": "execute_result"
    }
   ],
   "source": [
    "cube.M.select([(0,2),(1,1)])\n",
    "cube.M.mask"
   ]
  },
  {
   "cell_type": "code",
   "execution_count": 27,
   "metadata": {},
   "outputs": [
    {
     "data": {
      "text/plain": [
       "array([[1, 1, 1, 1],\n",
       "       [1, 1, 1, 1],\n",
       "       [1, 1, 1, 1]])"
      ]
     },
     "execution_count": 27,
     "metadata": {},
     "output_type": "execute_result"
    }
   ],
   "source": [
    "cube.M.selected_ones()\n",
    "cube.M.mask"
   ]
  },
  {
   "cell_type": "code",
   "execution_count": 28,
   "metadata": {},
   "outputs": [
    {
     "data": {
      "text/plain": [
       "array([[0, 0, 0, 0],\n",
       "       [0, 0, 0, 0],\n",
       "       [0, 0, 0, 0]])"
      ]
     },
     "execution_count": 28,
     "metadata": {},
     "output_type": "execute_result"
    }
   ],
   "source": [
    "cube.M.selected_zeros()\n",
    "cube.M.mask"
   ]
  },
  {
   "cell_type": "code",
   "execution_count": 31,
   "metadata": {},
   "outputs": [
    {
     "data": {
      "text/plain": [
       "[[0.35940897690218365,\n",
       "  0.7991130903658499,\n",
       "  0.1054573737528196,\n",
       "  0.42660296856116176,\n",
       "  0.9587907929181276],\n",
       " [0.9370344754448661,\n",
       "  0.5814617496225783,\n",
       "  0.8054580462666125,\n",
       "  0.26227388062838397,\n",
       "  0.13401394270554512],\n",
       " [0.9690330093813223,\n",
       "  0.4662722991252828,\n",
       "  0.8912607084170179,\n",
       "  0.1535560857130599,\n",
       "  0.1986624968990074],\n",
       " [0.9075877941443835,\n",
       "  0.8359389302247247,\n",
       "  0.4778647786067979,\n",
       "  0.6500563608829947,\n",
       "  0.43766206559322784],\n",
       " [0.019943930811941124,\n",
       "  0.9750282062754586,\n",
       "  0.9165660718778766,\n",
       "  0.049414584066101885,\n",
       "  0.6561629207807556],\n",
       " [0.32836454101754997,\n",
       "  0.4713364111348438,\n",
       "  0.7146790737945173,\n",
       "  0.296718851107873,\n",
       "  0.7909450957401664],\n",
       " [0.7157994345169424,\n",
       "  0.8124654033446378,\n",
       "  0.981887818761682,\n",
       "  0.4023724744452438,\n",
       "  0.18485711904592506],\n",
       " [0.5484242723230349,\n",
       "  0.9461362040478855,\n",
       "  0.867958099817634,\n",
       "  0.5229651684647321,\n",
       "  0.0636903777027753],\n",
       " [0.38931248491165893,\n",
       "  0.7002111334599735,\n",
       "  0.5309679233291242,\n",
       "  0.6914911720081729,\n",
       "  0.5395384182193683],\n",
       " [0.14770101218742548,\n",
       "  0.591969194305552,\n",
       "  0.23823548909179282,\n",
       "  0.8010002880238255,\n",
       "  0.10784184190431134],\n",
       " [0.06443779886620027,\n",
       "  0.3050964600230708,\n",
       "  0.2724062351546257,\n",
       "  0.009298912508313828,\n",
       "  0.4933873675097913],\n",
       " [0.2308868702013921,\n",
       "  0.03745207135538653,\n",
       "  0.6551030514496688,\n",
       "  0.32080865845125184,\n",
       "  0.7461904924792415]]"
      ]
     },
     "execution_count": 31,
     "metadata": {},
     "output_type": "execute_result"
    }
   ],
   "source": [
    "cube.M.selected_ones()\n",
    "cube.M.to_list()"
   ]
  },
  {
   "cell_type": "code",
   "execution_count": 34,
   "metadata": {},
   "outputs": [
    {
     "data": {
      "text/plain": [
       "<xarray.DataArray (band: 5, a: 1, b: 3)>\n",
       "array([[[ 0.359409,  0.937034,  0.969033]],\n",
       "\n",
       "       [[ 0.799113,  0.581462,  0.466272]],\n",
       "\n",
       "       [[ 0.105457,  0.805458,  0.891261]],\n",
       "\n",
       "       [[ 0.426603,  0.262274,  0.153556]],\n",
       "\n",
       "       [[ 0.958791,  0.134014,  0.198662]]])\n",
       "Coordinates:\n",
       "  * b        (b) int32 3 4 5\n",
       "  * band     (band) int32 1 2 3 6 7\n",
       "  * a        (a) int32 1"
      ]
     },
     "execution_count": 34,
     "metadata": {},
     "output_type": "execute_result"
    }
   ],
   "source": [
    "cube.M.selected_zeros()\n",
    "cube.M.select([(0,0),(0,1),(0,2)])\n",
    "cube.M.where_masked()"
   ]
  },
  {
   "cell_type": "code",
   "execution_count": 35,
   "metadata": {},
   "outputs": [
    {
     "data": {
      "text/plain": [
       "<xarray.DataArray (a: 3, b: 4)>\n",
       "array([[1, 1, 1, 0],\n",
       "       [0, 0, 0, 0],\n",
       "       [0, 0, 0, 0]])\n",
       "Coordinates:\n",
       "  * b        (b) int32 3 4 5 6\n",
       "    band     int32 1\n",
       "  * a        (a) int32 1 2 3"
      ]
     },
     "execution_count": 35,
     "metadata": {},
     "output_type": "execute_result"
    }
   ],
   "source": [
    "cube.M.mask_as_xarray()"
   ]
  },
  {
   "cell_type": "code",
   "execution_count": 36,
   "metadata": {},
   "outputs": [
    {
     "data": {
      "text/plain": [
       "(3, 4)"
      ]
     },
     "execution_count": 36,
     "metadata": {},
     "output_type": "execute_result"
    }
   ],
   "source": [
    "cube.M.shape"
   ]
  },
  {
   "cell_type": "code",
   "execution_count": null,
   "metadata": {
    "collapsed": true
   },
   "outputs": [],
   "source": []
  }
 ],
 "metadata": {
  "kernelspec": {
   "display_name": "Python 3",
   "language": "python",
   "name": "python3"
  },
  "language_info": {
   "codemirror_mode": {
    "name": "ipython",
    "version": 3
   },
   "file_extension": ".py",
   "mimetype": "text/x-python",
   "name": "python",
   "nbconvert_exporter": "python",
   "pygments_lexer": "ipython3",
   "version": "3.6.1"
  }
 },
 "nbformat": 4,
 "nbformat_minor": 2
}
